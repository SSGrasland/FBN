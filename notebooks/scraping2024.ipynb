{
 "cells": [
  {
   "cell_type": "markdown",
   "id": "b117319d-d154-4dd4-b88f-215368f9b07d",
   "metadata": {},
   "source": [
    "# FBN Scraping "
   ]
  },
  {
   "cell_type": "markdown",
   "id": "bc32bf44-5ac5-4e29-bdee-6dab80496e27",
   "metadata": {},
   "source": [
    "## Converting From PDF to Text"
   ]
  },
  {
   "cell_type": "code",
   "execution_count": 1,
   "id": "2c914fb3-6ffe-4a2b-b170-2783d9a82442",
   "metadata": {},
   "outputs": [],
   "source": [
    "#Importing the needed library to convert PDF to text\n",
    "import pdfplumber\n",
    "\n",
    "#extracting the PDF\n",
    "def extract_text_from_pdf(pdf_path):\n",
    "    with pdfplumber.open(pdf_path) as pdf:\n",
    "        text = ''\n",
    "        for page in pdf.pages:\n",
    "            text += page.extract_text()\n",
    "    return text\n",
    "\n",
    "# Replace 'your_pdf_file.pdf' with the actual path to your PDF file\n",
    "pdf_path = r\"C:\\Users\\salom\\OneDrive\\Área de Trabalho\\FBN New\\FBN\\Issues\\21.1.pdf\"\n",
    "\n",
    "#variable containing text called extracted_text\n",
    "extracted_text = extract_text_from_pdf(pdf_path)\n"
   ]
  },
  {
   "cell_type": "code",
   "execution_count": 2,
   "id": "a15ca3dc-ed82-47cf-90f0-480f9544b850",
   "metadata": {},
   "outputs": [],
   "source": [
    "#Downloading the text file \n",
    "\n",
    "with open('21.1_Issue_Text.txt', 'w', encoding='utf-8') as file:\n",
    "    file.write(extracted_text)"
   ]
  },
  {
   "cell_type": "markdown",
   "id": "682a4d37-90f8-4627-ad37-696b1e275df1",
   "metadata": {},
   "source": [
    "## ISBNS"
   ]
  },
  {
   "cell_type": "markdown",
   "id": "7bbd9195-4b8e-4032-99be-cb446243c1d1",
   "metadata": {},
   "source": [
    "### Parsing ISBNs"
   ]
  },
  {
   "cell_type": "code",
   "execution_count": 3,
   "id": "7da6941c-378c-4bcf-ab8f-a77f4ee4b632",
   "metadata": {},
   "outputs": [],
   "source": [
    "#extracting ISBNs from thext \n",
    "#importing the library\n",
    "import re\n",
    "\n",
    "#defining the regex used \n",
    "def extract_isbns(text):\n",
    "    # Define a regex pattern to match strings of numbers with dashes\n",
    "    isbn_pattern = r\"((978[-– ])?[0-9][0-9-– ]{10}[-– ][0-9xX])|((978)?[0-9]{9}[0-9Xx])\"\n",
    "\n",
    "    # Find all matches of the ISBN pattern in the text\n",
    "    isbns = re.findall(isbn_pattern, text)\n",
    "\n",
    "    return isbns\n",
    "\n",
    "# Extract ISBNs from the example text\n",
    "isbns_found = extract_isbns(extracted_text)\n",
    "\n",
    "# Extract only the portions with numbers and dashes\n",
    "isbns_found = [isbn[0] for isbn in isbns_found]\n",
    "\n",
    "#print(\"Cleaned ISBNs:\", isbns_found)\n"
   ]
  },
  {
   "cell_type": "markdown",
   "id": "18d5d092-976a-4cfc-91f6-6b441de5a712",
   "metadata": {},
   "source": [
    "### ISBN Dataframe"
   ]
  },
  {
   "cell_type": "code",
   "execution_count": 4,
   "id": "2429e20a-e67d-4ec7-b97f-3c3d1a28343a",
   "metadata": {},
   "outputs": [],
   "source": [
    "#creating a dataframe that has ISBNs and the page numbers where found \n",
    "\n",
    "#importing necessary libaries\n",
    "import pdfplumber\n",
    "import pandas as pd\n",
    "import re\n",
    "\n",
    "def extract_isbns_from_text(text):\n",
    "    # Define the ISBN regex pattern\n",
    "    isbn_pattern = re.compile(r\"((978[-– ])?[0-9][0-9-– ]{10}[-– ][0-9xX])|((978)?[0-9]{9}[0-9Xx])\")\n",
    "\n",
    "    # Find all ISBNs in the text\n",
    "    isbns_found = isbn_pattern.findall(text)\n",
    "    return isbns_found\n",
    "\n",
    "def extract_text_from_pdf(pdf_path):\n",
    "    data = {'PageNumber': [], 'Text': [], 'ISBNs': []}\n",
    "    with pdfplumber.open(pdf_path) as pdf:\n",
    "        for i, page in enumerate(pdf.pages, start=1):\n",
    "            # Add page number and corresponding text to the data dictionary\n",
    "            data['PageNumber'].append(i)\n",
    "            text = page.extract_text()\n",
    "            data['Text'].append(text)\n",
    "            \n",
    "            # Extract ISBNs from the text\n",
    "            isbns_found = extract_isbns_from_text(text)\n",
    "            isbns_found = [isbn[0] for isbn in isbns_found]\n",
    "            data['ISBNs'].append(isbns_found)\n",
    "\n",
    "    return pd.DataFrame(data)\n",
    "\n",
    "# Replace 'your_pdf_file.pdf' with the actual path to your PDF file\n",
    "pdf_path = r\"C:\\Users\\salom\\OneDrive\\Área de Trabalho\\FBN New\\FBN\\Issues\\21.1.pdf\"\n",
    "df = extract_text_from_pdf(pdf_path)\n"
   ]
  },
  {
   "cell_type": "code",
   "execution_count": 5,
   "id": "b3a7b63d-70dc-4b6e-b2c2-cc7389b93c08",
   "metadata": {},
   "outputs": [
    {
     "data": {
      "text/html": [
       "<div>\n",
       "<style scoped>\n",
       "    .dataframe tbody tr th:only-of-type {\n",
       "        vertical-align: middle;\n",
       "    }\n",
       "\n",
       "    .dataframe tbody tr th {\n",
       "        vertical-align: top;\n",
       "    }\n",
       "\n",
       "    .dataframe thead th {\n",
       "        text-align: right;\n",
       "    }\n",
       "</style>\n",
       "<table border=\"1\" class=\"dataframe\">\n",
       "  <thead>\n",
       "    <tr style=\"text-align: right;\">\n",
       "      <th></th>\n",
       "      <th>PageNumber</th>\n",
       "      <th>Text</th>\n",
       "      <th>ISBNs</th>\n",
       "    </tr>\n",
       "  </thead>\n",
       "  <tbody>\n",
       "    <tr>\n",
       "      <th>0</th>\n",
       "      <td>1</td>\n",
       "      <td>Feminist Bookstore News\\nSource: Reveal Digita...</td>\n",
       "      <td>[]</td>\n",
       "    </tr>\n",
       "    <tr>\n",
       "      <th>1</th>\n",
       "      <td>2</td>\n",
       "      <td>Feminist\\nBookstore\\nNews HAli\\nvé\\nA lot of d...</td>\n",
       "      <td>[]</td>\n",
       "    </tr>\n",
       "    <tr>\n",
       "      <th>2</th>\n",
       "      <td>3</td>\n",
       "      <td>“Harriet Lerner pioneers on behalf of womens\\n...</td>\n",
       "      <td>[]</td>\n",
       "    </tr>\n",
       "    <tr>\n",
       "      <th>3</th>\n",
       "      <td>4</td>\n",
       "      <td>Feminist Bookstore News\\nWelcome to.FBN’s Spri...</td>\n",
       "      <td>[]</td>\n",
       "    </tr>\n",
       "    <tr>\n",
       "      <th>4</th>\n",
       "      <td>5</td>\n",
       "      <td>Feminist Bookstore News\\n55% discount, postage...</td>\n",
       "      <td>[]</td>\n",
       "    </tr>\n",
       "  </tbody>\n",
       "</table>\n",
       "</div>"
      ],
      "text/plain": [
       "   PageNumber                                               Text ISBNs\n",
       "0           1  Feminist Bookstore News\\nSource: Reveal Digita...    []\n",
       "1           2  Feminist\\nBookstore\\nNews HAli\\nvé\\nA lot of d...    []\n",
       "2           3  “Harriet Lerner pioneers on behalf of womens\\n...    []\n",
       "3           4  Feminist Bookstore News\\nWelcome to.FBN’s Spri...    []\n",
       "4           5  Feminist Bookstore News\\n55% discount, postage...    []"
      ]
     },
     "execution_count": 5,
     "metadata": {},
     "output_type": "execute_result"
    }
   ],
   "source": [
    "df.head()"
   ]
  },
  {
   "cell_type": "markdown",
   "id": "0624f764-8300-445c-826b-259da3a7cf03",
   "metadata": {},
   "source": [
    "### Downloading List of ISBNs and Page Numbers"
   ]
  },
  {
   "cell_type": "code",
   "execution_count": 6,
   "id": "10ab76cd-fe2c-4063-bc68-6cc4206f0519",
   "metadata": {},
   "outputs": [],
   "source": [
    "#change issue number\n",
    "df.to_csv('21.1_text.csv', index=False)"
   ]
  },
  {
   "cell_type": "markdown",
   "id": "c83e9417-5b9e-4f7f-97b0-4e166e8c814a",
   "metadata": {},
   "source": [
    "## API"
   ]
  },
  {
   "cell_type": "code",
   "execution_count": null,
   "id": "fda67e8b-e10c-4a77-9c61-8ae8513c1314",
   "metadata": {},
   "outputs": [
    {
     "name": "stdout",
     "output_type": "stream",
     "text": [
      "Error for ISBN 95 1-889330-1: 404\n",
      "Error for ISBN 95 1-878610-6: 404\n",
      "Error for ISBN 95 0-930100-7: 404\n",
      "Error for ISBN 00 1-886913-1: 404\n",
      "Error for ISBN 95 1-883513-0: 404\n",
      "Error for ISBN 8 1-800-243-0: 404\n",
      "Error for ISBN 72 3- 94 16 0: 404\n",
      "Error for ISBN 1162 202-62 0: 404\n",
      "Error for ISBN 192 9- 6268-7: 404\n",
      "Error for ISBN 29 -0 52 6- 6: 404\n",
      "Error for ISBN 5 -95 01 31 5: 404\n",
      "Error for ISBN 0 90 62-268-7: 404\n",
      "Error for ISBN 0-880000-60-1: 404\n",
      "Error for ISBN 0-689-00449-4: 404\n",
      "Error for ISBN : 403\n",
      "Error for ISBN : 403\n",
      "Error for ISBN : 403\n",
      "Error for ISBN 0-485-80345-3: 404\n",
      "Error for ISBN 0-384-80344-5: 404\n",
      "Error for ISBN : 403\n",
      "Error for ISBN : 403\n",
      "Error for ISBN : 403\n",
      "Error for ISBN : 403\n",
      "Error for ISBN : 403\n",
      "Error for ISBN 0-689-00462-1: 404\n",
      "Error for ISBN 1-56280-224-0: 404\n",
      "Error for ISBN 1-896705-24-3: 404\n",
      "Error for ISBN 0-921411-77-4: 404\n",
      "Error for ISBN 19-884-0710 x: 404\n",
      "Error for ISBN : 403\n",
      "Error for ISBN 15-974-8985 x: 404\n",
      "Error for ISBN 1-56280-225-9: 404\n",
      "Error for ISBN 1-56280-224-0: 404\n",
      "Error for ISBN 0-896764-01-0: 404\n",
      "Error for ISBN 0-896764-02-9: 404\n",
      "Error for ISBN 0-896764-03-7: 404\n",
      "Error for ISBN 81 00 04 -5 2: 404\n",
      "Error for ISBN : 403\n",
      "Error for ISBN 10-96466480-1: 404\n",
      "Error for ISBN 1-896095-33-X: 403\n",
      "Error for ISBN 1-55972-440-4: 403\n",
      "Error for ISBN 0-8298-1209-1: 403\n",
      "Error for ISBN 0-8356-0763-1: 403\n",
      "Error for ISBN 1-885865-22-8: 403\n",
      "Error for ISBN 1-885865-19-8: 403\n",
      "Error for ISBN 1-56838-187-5: 403\n",
      "Error for ISBN 1-57243-276-4: 403\n",
      "Error for ISBN 1-886968-05-5: 403\n",
      "Error for ISBN 1-57224-079-2: 403\n",
      "Error for ISBN 1-883285-14-3: 403\n",
      "Error for ISBN 1-56512-185-6: 403\n",
      "Error for ISBN 1-55652-317-3: 403\n",
      "Error for ISBN 0-8264-0893-1: 403\n",
      "Error for ISBN 1-55082-190-3: 403\n",
      "Error for ISBN 0-9654778-9-4: 403\n",
      "Error for ISBN 0-89281-780-1: 403\n",
      "Error for ISBN 0-7890-0047-4: 403\n",
      "Error for ISBN 0-8147-1307-6: 403\n",
      "Error for ISBN 1-57230-259-3: 403\n",
      "Error for ISBN 1-882688-15-5: 403\n",
      "Error for ISBN 0-674-64145-0: 403\n",
      "Error for ISBN 0-674-18600-1: 403\n",
      "Error for ISBN 0-8142-0739-1: 403\n",
      "Error for ISBN 7890- 03754-X: 403\n",
      "Error for ISBN 1-56023-093-2: 403\n",
      "Error for ISBN 1-56023-881-X: 403\n",
      "Error for ISBN 0-8166-2441-0: 403\n",
      "Error for ISBN 0-8165-1627-8: 403\n",
      "Error for ISBN 0-520-20844-7: 403\n",
      "Error for ISBN 0-472-08463-1: 403\n",
      "Error for ISBN 0-8166-2775-4: 403\n",
      "Error for ISBN 0-472-08433-X: 403\n",
      "Error for ISBN 0-8476-8971-9: 403\n",
      "Error for ISBN 0-945210-07-8: 403\n",
      "Error for ISBN 1-55128-047-7: 403\n",
      "Error for ISBN 1-889525-04-9: 403\n",
      "Error for ISBN 0-8476-8408-3: 403\n",
      "Error for ISBN 1-56247-517-7: 403\n",
      "Error for ISBN 1-56858-093-2: 403\n",
      "Error for ISBN 0-935480-91-9: 403\n",
      "Error for ISBN 1-55885-209-3: 403\n",
      "Error for ISBN 1-55885-175-5: 403\n",
      "Error for ISBN 1-880684-51-9: 403\n",
      "Error for ISBN 1-877727-73-3: 403\n",
      "Error for ISBN 0-8264-1043-X: 403\n",
      "Error for ISBN 0-930100-79-4: 403\n",
      "Error for ISBN 1-57324-041-9: 403\n",
      "Error for ISBN 1-55783-315-X: 403\n",
      "Error for ISBN 0-76151-292-6: 403\n",
      "Error for ISBN 1-55199-011-3: 403\n",
      "Error for ISBN 1-882688-15-5: 403\n",
      "Error for ISBN 0-8059-4014-6: 403\n",
      "Error for ISBN 1-882593-21-9: 403\n",
      "Error for ISBN 0-89789-534-7: 403\n",
      "Error for ISBN 1-55597-265-9: 403\n",
      "Error for ISBN 1-55583-404-3: 403\n",
      "Error for ISBN 0-304-33632-7: 403\n",
      "Error for ISBN 0-88011-729-X: 403\n",
      "Error for ISBN 1-85242-450-8: 403\n",
      "Error for ISBN 1-85242-573-3: 403\n",
      "Error for ISBN 1-896095-33-X: 403\n",
      "Error for ISBN 1-55972-440-4: 403\n",
      "Error for ISBN 0-8298-1209-1: 403\n",
      "Error for ISBN 0-8356-0763-1: 403\n",
      "Error for ISBN 1-885865-22-8: 403\n",
      "Error for ISBN 1-885865-19-8: 403\n",
      "Error for ISBN 1-56838-187-5: 403\n",
      "Error for ISBN 1-57243-276-4: 403\n",
      "Error for ISBN 1-886968-05-5: 403\n",
      "Error for ISBN 1-57224-079-2: 403\n",
      "Error for ISBN 1-883285-14-3: 403\n",
      "Error for ISBN 1-56512-185-6: 403\n",
      "Error for ISBN 1-55652-317-3: 403\n",
      "Error for ISBN 0-8264-0893-1: 403\n",
      "Error for ISBN 1-55082-190-3: 403\n",
      "Error for ISBN 0-9654778-9-4: 403\n",
      "Error for ISBN 0-89281-780-1: 403\n",
      "Error for ISBN 0-7890-0047-4: 403\n",
      "Error for ISBN 0-8147-1307-6: 403\n",
      "Error for ISBN 1-57230-259-3: 403\n",
      "Error for ISBN 1-882688-15-5: 403\n",
      "Error for ISBN 0-674-64145-0: 403\n",
      "Error for ISBN 0-674-18600-1: 403\n",
      "Error for ISBN 0-8142-0739-1: 403\n",
      "Error for ISBN 7890- 03754-X: 403\n",
      "Error for ISBN 1-56023-093-2: 403\n",
      "Error for ISBN 1-56023-881-X: 403\n",
      "Error for ISBN 0-8203-1950-3: 403\n",
      "Error for ISBN 0-8166-2441-0: 403\n",
      "Error for ISBN 0-8165-1627-8: 403\n",
      "Error for ISBN 0-520-20844-7: 403\n",
      "Error for ISBN 0-472-08463-1: 403\n",
      "Error for ISBN 0-8166-2775-4: 403\n",
      "Error for ISBN 0-472-08433-X: 403\n",
      "Error for ISBN 0-8166-2717-7: 403\n",
      "Error for ISBN 0-521-62658-7: 403\n",
      "Error for ISBN 0-521-59743-9: 403\n",
      "Error for ISBN 0-87805-962-8: 403\n",
      "Error for ISBN 0-521-62929-2: 403\n",
      "Error for ISBN 0-521-56580-4: 403\n",
      "Error for ISBN 0-87421-234-0: 403\n",
      "Error for ISBN 0-521-63989-1: 403\n",
      "Error for ISBN 0-521-58975-4: 403\n",
      "Error for ISBN 0-8014-3360-6: 403\n",
      "Error for ISBN 0-8014-8547-9: 403\n",
      "Error for ISBN 0-8014-3347-9: 403\n"
     ]
    }
   ],
   "source": [
    "import requests\n",
    "import csv\n",
    "import time\n",
    "\n",
    "api_key = '52084_9ddf62aeaa4a39b5485d9b7fb69dd5a8'\n",
    "isbns_to_process = isbns_found  # Replace with the original list of ISBNs you want to process\n",
    "\n",
    "\n",
    "#Removing Duplicates\n",
    "isbns_to_process = list(set(isbns_to_process))\n",
    "\n",
    "base_url = 'https://api2.isbndb.com/book/'\n",
    "\n",
    "with open('book_information.csv', 'w', newline='', encoding='utf-8') as csv_file:\n",
    "    fieldnames = ['ISBN', 'Title', 'Author', 'Publisher', 'Pages', 'Date Published', 'Subjects', 'Binding', 'Synopsis', 'Language', 'Edition', 'Dimensions', 'MSRP', 'Image', 'Status']\n",
    "    writer = csv.DictWriter(csv_file, fieldnames=fieldnames)\n",
    "    writer.writeheader()\n",
    "\n",
    "    for isbn in isbns_to_process:\n",
    "        url = f'{base_url}{isbn}'\n",
    "        headers = {'Authorization': api_key}\n",
    "\n",
    "        response = requests.get(url, headers=headers)\n",
    "\n",
    "        if response.status_code == 200:\n",
    "            book_info = response.json().get('book', {})\n",
    "            writer.writerow({\n",
    "                'ISBN': isbn,\n",
    "                'Title': book_info.get('title', ''),\n",
    "                'Author': ', '.join(book_info.get('authors', [])),\n",
    "                'Publisher': book_info.get('publisher', ''),\n",
    "                'Pages': book_info.get('pages', ''),\n",
    "                'Date Published': book_info.get('date_published', ''),\n",
    "                'Binding': book_info.get('binding', ''),\n",
    "                'Synopsis': book_info.get('synopsis', ''),\n",
    "                'Language': book_info.get('language', ''),\n",
    "                'Edition': book_info.get('edition', ''),\n",
    "                'Dimensions': book_info.get('dimensions', ''),\n",
    "                'MSRP': book_info.get('msrp', ''),\n",
    "                'Image': book_info.get('image', ''),\n",
    "                'Status': 'Success'\n",
    "            })\n",
    "        else:\n",
    "            print(f\"Error for ISBN {isbn}: {response.status_code}\")\n",
    "            writer.writerow({\n",
    "                'ISBN': isbn,\n",
    "                'Status': 'Error',\n",
    "                'Title': '',\n",
    "                'Author': '',\n",
    "                'Publisher': '',\n",
    "                'Pages': '',\n",
    "                'Date Published': '',\n",
    "                'Binding': '',\n",
    "                'Synopsis': '',\n",
    "                'Language': '',\n",
    "                'Edition': '',\n",
    "                'Dimensions': '',\n",
    "                'MSRP': '',\n",
    "                'Image': ''\n",
    "            })\n",
    "\n",
    "        time.sleep(1)  # Pause for 1 second before making the next API call\n",
    "\n",
    "print(\"CSV file created successfully.\")"
   ]
  },
  {
   "cell_type": "markdown",
   "id": "56c80247-34ba-4e8a-9283-5616bdbfdada",
   "metadata": {},
   "source": [
    "## Joining Dataframes"
   ]
  },
  {
   "cell_type": "markdown",
   "id": "44227a7d-ba15-4fdc-9ff4-fab9d706f6c5",
   "metadata": {},
   "source": [
    "### Renaming to ISBN"
   ]
  },
  {
   "cell_type": "code",
   "execution_count": null,
   "id": "8ded2f2a-1145-4923-94cc-8ae59592ba4a",
   "metadata": {},
   "outputs": [],
   "source": [
    "import pandas as pd\n",
    "\n",
    "# Assuming 'ISBNs' is the current column name and 'ISBN' is the desired column name\n",
    "df.rename(columns={'ISBNs': 'ISBN'}, inplace=True)"
   ]
  },
  {
   "cell_type": "markdown",
   "id": "385e511f-f9b6-47d2-9688-a425b2486650",
   "metadata": {},
   "source": [
    "### Adding Page Numbers"
   ]
  },
  {
   "cell_type": "code",
   "execution_count": null,
   "id": "9272a8ef-2ab5-4d4d-9256-e2b53375516c",
   "metadata": {},
   "outputs": [],
   "source": [
    "page = df[['PageNumber', 'ISBN']]\n",
    "page.head()"
   ]
  },
  {
   "cell_type": "code",
   "execution_count": null,
   "id": "909a0dfe-4f1e-4433-9f6b-e774bfa1ccf9",
   "metadata": {},
   "outputs": [],
   "source": [
    "page['ISBN'] = page['ISBN'].astype(str).str.replace('[\\[\\]\\'\\\"]', '')\n",
    "page.head()"
   ]
  },
  {
   "cell_type": "code",
   "execution_count": null,
   "id": "57423fac-4a2c-4abc-a8c1-06aa0b0c42a4",
   "metadata": {},
   "outputs": [],
   "source": [
    "# Split values on comma and explode to create new rows\n",
    "page['ISBN'] = page['ISBN'].str.split(', ')\n",
    "page = page.explode('ISBN')\n",
    "\n",
    "# Display the updated DataFrame\n",
    "page.head()"
   ]
  },
  {
   "cell_type": "markdown",
   "id": "cbf70932-bfd6-43c5-81f3-1925f37dd706",
   "metadata": {},
   "source": [
    "### Opening Scraped Dataset"
   ]
  },
  {
   "cell_type": "code",
   "execution_count": null,
   "id": "dd779854-1f80-4a27-81e1-fa4aa464c0ef",
   "metadata": {},
   "outputs": [],
   "source": [
    "\n",
    "\n",
    "# Specify the file path\n",
    "file_path = r'C:\\Users\\salom\\OneDrive\\Área de Trabalho\\FBN New\\FBN\\notebooks\\book_information.csv'\n",
    "\n",
    "# Read the CSV file into a DataFrame\n",
    "info = pd.read_csv(file_path)\n",
    "\n",
    "info.head()"
   ]
  },
  {
   "cell_type": "markdown",
   "id": "04158c11-8052-4e22-8b39-1a71199f91c8",
   "metadata": {},
   "source": [
    "### Joining it With Pages"
   ]
  },
  {
   "cell_type": "code",
   "execution_count": null,
   "id": "3490094c-e113-40d1-8b73-448451377362",
   "metadata": {},
   "outputs": [],
   "source": [
    "merge = pd.merge(info, page, on='ISBN', how='left')\n",
    "merge"
   ]
  },
  {
   "cell_type": "markdown",
   "id": "76ff07c7-9d6c-4fbf-83a6-495d32abd0a9",
   "metadata": {},
   "source": [
    "### Adding a Column For Issue and Volume "
   ]
  },
  {
   "cell_type": "code",
   "execution_count": null,
   "id": "17ef5b93-72a9-43dc-86ea-af8e8a434aab",
   "metadata": {},
   "outputs": [],
   "source": [
    "merge['Volume & Issue'] = '21.1'"
   ]
  },
  {
   "cell_type": "markdown",
   "id": "fbe9348b-800d-4e86-b748-ece1ddc56813",
   "metadata": {},
   "source": [
    "### Removing Duplicates"
   ]
  },
  {
   "cell_type": "code",
   "execution_count": null,
   "id": "7d6d32f5-90a7-48cc-8144-7dae531735c0",
   "metadata": {},
   "outputs": [],
   "source": [
    "# Remove all duplicate rows from the DataFrame\n",
    "merge = merge.drop_duplicates(keep=False)\n",
    "\n",
    "# Reset the index after dropping duplicates\n",
    "merge.reset_index(drop=True, inplace=True)"
   ]
  },
  {
   "cell_type": "markdown",
   "id": "5599bf5f-5340-438a-b1f9-3b17d956dcbb",
   "metadata": {},
   "source": [
    "### Downloading Dataframe"
   ]
  },
  {
   "cell_type": "code",
   "execution_count": null,
   "id": "d634f8f8-9212-4818-8bbc-60e933a6c41c",
   "metadata": {},
   "outputs": [],
   "source": [
    "# Assuming 'merge' is your DataFrame\n",
    "merge.to_csv('21.1_booklist.csv', index=False)"
   ]
  },
  {
   "cell_type": "code",
   "execution_count": null,
   "id": "01c5257e-1bb3-4174-97f6-119e2136926c",
   "metadata": {},
   "outputs": [],
   "source": []
  },
  {
   "cell_type": "code",
   "execution_count": null,
   "id": "ca857dc3-f43e-4dc7-854d-6ffed5604ac7",
   "metadata": {},
   "outputs": [],
   "source": []
  }
 ],
 "metadata": {
  "kernelspec": {
   "display_name": "Python 3 (ipykernel)",
   "language": "python",
   "name": "python3"
  },
  "language_info": {
   "codemirror_mode": {
    "name": "ipython",
    "version": 3
   },
   "file_extension": ".py",
   "mimetype": "text/x-python",
   "name": "python",
   "nbconvert_exporter": "python",
   "pygments_lexer": "ipython3",
   "version": "3.10.9"
  }
 },
 "nbformat": 4,
 "nbformat_minor": 5
}
